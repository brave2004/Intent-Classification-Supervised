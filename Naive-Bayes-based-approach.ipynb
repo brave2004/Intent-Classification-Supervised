{
  "nbformat": 4,
  "nbformat_minor": 0,
  "metadata": {
    "colab": {
      "provenance": []
    },
    "kernelspec": {
      "name": "python3",
      "display_name": "Python 3"
    },
    "language_info": {
      "name": "python"
    }
  },
  "cells": [
    {
      "cell_type": "code",
      "execution_count": 9,
      "metadata": {
        "id": "oYXqy_Q1sKtP"
      },
      "outputs": [],
      "source": [
        "import pandas as pd\n",
        "from io import StringIO\n",
        "from sklearn.feature_extraction.text import TfidfVectorizer\n",
        "from sklearn.model_selection import train_test_split\n",
        "from sklearn.feature_extraction.text import CountVectorizer\n",
        "from sklearn.feature_extraction.text import TfidfTransformer\n",
        "from sklearn.naive_bayes import MultinomialNB"
      ]
    },
    {
      "cell_type": "code",
      "source": [
        "def get_data():\n",
        "    df = pd.read_csv('/content/dataset of intent.csv')\n",
        "    return df"
      ],
      "metadata": {
        "id": "dD3ZG9nNsT5n"
      },
      "execution_count": 10,
      "outputs": []
    },
    {
      "cell_type": "code",
      "source": [
        "def data_prepare():\n",
        "    col = ['classs', 'question']\n",
        "    y=get_data()\n",
        "    y = y[col]\n",
        "    y = y[pd.notnull(y['question'])]\n",
        "    y.columns = ['classs', 'question']\n",
        "    y['category_id'] = y['classs'].factorize()[0]\n",
        "    category_id_df = y[['classs', 'category_id']].drop_duplicates().sort_values('category_id')\n",
        "    category_to_id = dict(category_id_df.values)\n",
        "    id_to_category = dict(category_id_df[['category_id', 'classs']].values)\n",
        "    return y"
      ],
      "metadata": {
        "id": "MqIHlU-Etf84"
      },
      "execution_count": 11,
      "outputs": []
    },
    {
      "cell_type": "code",
      "source": [
        "df = pd.read_csv('/content/dataset of intent.csv')\n"
      ],
      "metadata": {
        "id": "X-hxnml9twPD"
      },
      "execution_count": 13,
      "outputs": []
    },
    {
      "cell_type": "code",
      "source": [
        "df.columns = df.columns.str.replace(' ', '')"
      ],
      "metadata": {
        "id": "bXMQy3oyyWuH"
      },
      "execution_count": 14,
      "outputs": []
    },
    {
      "cell_type": "code",
      "source": [
        "df"
      ],
      "metadata": {
        "colab": {
          "base_uri": "https://localhost:8080/",
          "height": 423
        },
        "id": "gjt1Nd8ot_c-",
        "outputId": "c49fc462-fabc-4fa2-f75e-ece598939cd7"
      },
      "execution_count": 15,
      "outputs": [
        {
          "output_type": "execute_result",
          "data": {
            "text/plain": [
              "                classs                                        question\n",
              "0     security_control                      what checklist do you have\n",
              "1     security_control                    what checklist are available\n",
              "2     security_control                       give me security controls\n",
              "3     security_control                       Show me Security Controls\n",
              "4     security_control                              Show me Checklists\n",
              "...                ...                                             ...\n",
              "5973              Code   Code example of Server side request forgery ?\n",
              "5974              Code             Code of Server side request forgery\n",
              "5975              Code  Give me some sample code of not available item\n",
              "5976              Code            Code example of not available item ?\n",
              "5977              Code                      Code of not available item\n",
              "\n",
              "[5978 rows x 2 columns]"
            ],
            "text/html": [
              "\n",
              "  <div id=\"df-fa57c021-09fb-4b41-b3b9-ef6a4da913ee\">\n",
              "    <div class=\"colab-df-container\">\n",
              "      <div>\n",
              "<style scoped>\n",
              "    .dataframe tbody tr th:only-of-type {\n",
              "        vertical-align: middle;\n",
              "    }\n",
              "\n",
              "    .dataframe tbody tr th {\n",
              "        vertical-align: top;\n",
              "    }\n",
              "\n",
              "    .dataframe thead th {\n",
              "        text-align: right;\n",
              "    }\n",
              "</style>\n",
              "<table border=\"1\" class=\"dataframe\">\n",
              "  <thead>\n",
              "    <tr style=\"text-align: right;\">\n",
              "      <th></th>\n",
              "      <th>classs</th>\n",
              "      <th>question</th>\n",
              "    </tr>\n",
              "  </thead>\n",
              "  <tbody>\n",
              "    <tr>\n",
              "      <th>0</th>\n",
              "      <td>security_control</td>\n",
              "      <td>what checklist do you have</td>\n",
              "    </tr>\n",
              "    <tr>\n",
              "      <th>1</th>\n",
              "      <td>security_control</td>\n",
              "      <td>what checklist are available</td>\n",
              "    </tr>\n",
              "    <tr>\n",
              "      <th>2</th>\n",
              "      <td>security_control</td>\n",
              "      <td>give me security controls</td>\n",
              "    </tr>\n",
              "    <tr>\n",
              "      <th>3</th>\n",
              "      <td>security_control</td>\n",
              "      <td>Show me Security Controls</td>\n",
              "    </tr>\n",
              "    <tr>\n",
              "      <th>4</th>\n",
              "      <td>security_control</td>\n",
              "      <td>Show me Checklists</td>\n",
              "    </tr>\n",
              "    <tr>\n",
              "      <th>...</th>\n",
              "      <td>...</td>\n",
              "      <td>...</td>\n",
              "    </tr>\n",
              "    <tr>\n",
              "      <th>5973</th>\n",
              "      <td>Code</td>\n",
              "      <td>Code example of Server side request forgery ?</td>\n",
              "    </tr>\n",
              "    <tr>\n",
              "      <th>5974</th>\n",
              "      <td>Code</td>\n",
              "      <td>Code of Server side request forgery</td>\n",
              "    </tr>\n",
              "    <tr>\n",
              "      <th>5975</th>\n",
              "      <td>Code</td>\n",
              "      <td>Give me some sample code of not available item</td>\n",
              "    </tr>\n",
              "    <tr>\n",
              "      <th>5976</th>\n",
              "      <td>Code</td>\n",
              "      <td>Code example of not available item ?</td>\n",
              "    </tr>\n",
              "    <tr>\n",
              "      <th>5977</th>\n",
              "      <td>Code</td>\n",
              "      <td>Code of not available item</td>\n",
              "    </tr>\n",
              "  </tbody>\n",
              "</table>\n",
              "<p>5978 rows × 2 columns</p>\n",
              "</div>\n",
              "      <button class=\"colab-df-convert\" onclick=\"convertToInteractive('df-fa57c021-09fb-4b41-b3b9-ef6a4da913ee')\"\n",
              "              title=\"Convert this dataframe to an interactive table.\"\n",
              "              style=\"display:none;\">\n",
              "        \n",
              "  <svg xmlns=\"http://www.w3.org/2000/svg\" height=\"24px\"viewBox=\"0 0 24 24\"\n",
              "       width=\"24px\">\n",
              "    <path d=\"M0 0h24v24H0V0z\" fill=\"none\"/>\n",
              "    <path d=\"M18.56 5.44l.94 2.06.94-2.06 2.06-.94-2.06-.94-.94-2.06-.94 2.06-2.06.94zm-11 1L8.5 8.5l.94-2.06 2.06-.94-2.06-.94L8.5 2.5l-.94 2.06-2.06.94zm10 10l.94 2.06.94-2.06 2.06-.94-2.06-.94-.94-2.06-.94 2.06-2.06.94z\"/><path d=\"M17.41 7.96l-1.37-1.37c-.4-.4-.92-.59-1.43-.59-.52 0-1.04.2-1.43.59L10.3 9.45l-7.72 7.72c-.78.78-.78 2.05 0 2.83L4 21.41c.39.39.9.59 1.41.59.51 0 1.02-.2 1.41-.59l7.78-7.78 2.81-2.81c.8-.78.8-2.07 0-2.86zM5.41 20L4 18.59l7.72-7.72 1.47 1.35L5.41 20z\"/>\n",
              "  </svg>\n",
              "      </button>\n",
              "      \n",
              "  <style>\n",
              "    .colab-df-container {\n",
              "      display:flex;\n",
              "      flex-wrap:wrap;\n",
              "      gap: 12px;\n",
              "    }\n",
              "\n",
              "    .colab-df-convert {\n",
              "      background-color: #E8F0FE;\n",
              "      border: none;\n",
              "      border-radius: 50%;\n",
              "      cursor: pointer;\n",
              "      display: none;\n",
              "      fill: #1967D2;\n",
              "      height: 32px;\n",
              "      padding: 0 0 0 0;\n",
              "      width: 32px;\n",
              "    }\n",
              "\n",
              "    .colab-df-convert:hover {\n",
              "      background-color: #E2EBFA;\n",
              "      box-shadow: 0px 1px 2px rgba(60, 64, 67, 0.3), 0px 1px 3px 1px rgba(60, 64, 67, 0.15);\n",
              "      fill: #174EA6;\n",
              "    }\n",
              "\n",
              "    [theme=dark] .colab-df-convert {\n",
              "      background-color: #3B4455;\n",
              "      fill: #D2E3FC;\n",
              "    }\n",
              "\n",
              "    [theme=dark] .colab-df-convert:hover {\n",
              "      background-color: #434B5C;\n",
              "      box-shadow: 0px 1px 3px 1px rgba(0, 0, 0, 0.15);\n",
              "      filter: drop-shadow(0px 1px 2px rgba(0, 0, 0, 0.3));\n",
              "      fill: #FFFFFF;\n",
              "    }\n",
              "  </style>\n",
              "\n",
              "      <script>\n",
              "        const buttonEl =\n",
              "          document.querySelector('#df-fa57c021-09fb-4b41-b3b9-ef6a4da913ee button.colab-df-convert');\n",
              "        buttonEl.style.display =\n",
              "          google.colab.kernel.accessAllowed ? 'block' : 'none';\n",
              "\n",
              "        async function convertToInteractive(key) {\n",
              "          const element = document.querySelector('#df-fa57c021-09fb-4b41-b3b9-ef6a4da913ee');\n",
              "          const dataTable =\n",
              "            await google.colab.kernel.invokeFunction('convertToInteractive',\n",
              "                                                     [key], {});\n",
              "          if (!dataTable) return;\n",
              "\n",
              "          const docLinkHtml = 'Like what you see? Visit the ' +\n",
              "            '<a target=\"_blank\" href=https://colab.research.google.com/notebooks/data_table.ipynb>data table notebook</a>'\n",
              "            + ' to learn more about interactive tables.';\n",
              "          element.innerHTML = '';\n",
              "          dataTable['output_type'] = 'display_data';\n",
              "          await google.colab.output.renderOutput(dataTable, element);\n",
              "          const docLink = document.createElement('div');\n",
              "          docLink.innerHTML = docLinkHtml;\n",
              "          element.appendChild(docLink);\n",
              "        }\n",
              "      </script>\n",
              "    </div>\n",
              "  </div>\n",
              "  "
            ]
          },
          "metadata": {},
          "execution_count": 15
        }
      ]
    },
    {
      "cell_type": "code",
      "source": [
        "def naive_algo():\n",
        "    tfidf = TfidfVectorizer(sublinear_tf=True, min_df=5, norm='l2', encoding='latin-1', ngram_range=(1, 2), stop_words='english')\n",
        "    df=data_prepare()\n",
        "    features = tfidf.fit_transform(df.question).toarray()\n",
        "    labels = df.category_id\n",
        "    features.shape\n",
        "    X_train, X_test, y_train, y_test = train_test_split(df['question'], df['classs'], random_state = 0)\n",
        "    count_vect = CountVectorizer()\n",
        "    X_train_counts = count_vect.fit_transform(X_train)\n",
        "    tfidf_transformer = TfidfTransformer()\n",
        "    X_train_tfidf = tfidf_transformer.fit_transform(X_train_counts)\n",
        "    clf = MultinomialNB().fit(X_train_tfidf, y_train)\n",
        "    return clf,count_vect"
      ],
      "metadata": {
        "id": "PP0VbhJfuB_e"
      },
      "execution_count": 16,
      "outputs": []
    },
    {
      "cell_type": "code",
      "source": [
        "def predict(question):\n",
        "    clf,count_vect=naive_algo()\n",
        "    intent=clf.predict(count_vect.transform([question]))\n",
        "    intent=str(intent).strip(\"['']\")\n",
        "    print(intent)\n",
        "    return intent"
      ],
      "metadata": {
        "id": "qoZmRQu_uIYD"
      },
      "execution_count": 17,
      "outputs": []
    },
    {
      "cell_type": "code",
      "source": [
        "\n",
        "ques=input(\"Enter your question \")"
      ],
      "metadata": {
        "colab": {
          "base_uri": "https://localhost:8080/"
        },
        "id": "9ksa3DWRuMrY",
        "outputId": "3861ca24-284c-4c73-e8b0-936ea46a3df4"
      },
      "execution_count": 18,
      "outputs": [
        {
          "name": "stdout",
          "output_type": "stream",
          "text": [
            "Enter your question what is xss?\n"
          ]
        }
      ]
    },
    {
      "cell_type": "code",
      "source": [
        "x=predict(ques)\n"
      ],
      "metadata": {
        "colab": {
          "base_uri": "https://localhost:8080/"
        },
        "id": "M6GH3Az6uMtX",
        "outputId": "6f221dec-a312-4278-986e-9fae3e16b306"
      },
      "execution_count": 19,
      "outputs": [
        {
          "output_type": "stream",
          "name": "stdout",
          "text": [
            "Description\n"
          ]
        }
      ]
    },
    {
      "cell_type": "code",
      "source": [
        "intent=str(x).strip(\"['']\")\n"
      ],
      "metadata": {
        "id": "8wSJJdfruMvp"
      },
      "execution_count": 20,
      "outputs": []
    },
    {
      "cell_type": "code",
      "source": [
        "print(intent)\n"
      ],
      "metadata": {
        "colab": {
          "base_uri": "https://localhost:8080/"
        },
        "id": "Fx6noNKhuMzA",
        "outputId": "42e9800a-0f93-4ac8-921c-bdac53ae8303"
      },
      "execution_count": 21,
      "outputs": [
        {
          "output_type": "stream",
          "name": "stdout",
          "text": [
            "Description\n"
          ]
        }
      ]
    }
  ]
}